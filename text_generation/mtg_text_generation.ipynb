{
 "cells": [
  {
   "cell_type": "code",
   "execution_count": null,
   "metadata": {
    "collapsed": true
   },
   "outputs": [],
   "source": [
    "import plaidml.keras\n",
    "plaidml.keras.install_backend()\n",
    "\n",
    "import pickle\n",
    "import pln_tools_comentarios_vtg as pln\n",
    "import numpy as np\n",
    "\n",
    "from sklearn.preprocessing import LabelEncoder\n",
    "from keras.preprocessing.text import Tokenizer\n",
    "from keras.preprocessing.sequence import pad_sequences\n",
    "from keras.utils import to_categorical, np_utils\n",
    "from keras.models import Sequential, load_model\n",
    "from keras.layers import Dense\n",
    "from keras.layers import LSTM\n",
    "from keras.layers import Embedding\n",
    "from keras.callbacks import ModelCheckpoint\n",
    "from numpy import array\n",
    "from pickle import dump\n",
    "from nltk.tokenize import word_tokenize\n",
    "from pln_tools_comentarios_vtg import removerSignos\n",
    "\n",
    "\n"
   ]
  },
  {
   "cell_type": "code",
   "execution_count": null,
   "metadata": {
    "collapsed": true
   },
   "outputs": [],
   "source": [
    "def getX_y():\n",
    "    corpus = pickle.load(open(\"corpus_mtg_afterFilters_allCards.p\", \"rb\"))\n",
    "    text = [removerSignos(documento, ['{','}','.', ':', '(', ')', ',']) for documento in corpus]\n",
    "\n",
    "    text = pln.createCorpusText(text) #String con el texto completo del corpus\n",
    "    text_tokenizado = word_tokenize(text)\n",
    "\n",
    "\n",
    "    # cut the text in semi-redundant sequences of SEQUENCE_LEN words\n",
    "    sentences = []\n",
    "    next_words = []\n",
    "    for i in range(0, len(text_tokenizado) - SEQUENCE_LEN, STEP):\n",
    "    sentences.append(text_tokenizado[i: i + SEQUENCE_LEN])\n",
    "    next_words.append(text_tokenizado[i + SEQUENCE_LEN])\n",
    "\n",
    "\n",
    "    sentences = [' '.join(sentence) for sentence in sentences]\n",
    "    corpus_ = corpus[:]\n",
    "    corpus_.append(' '.join(next_words))\n",
    "    v = pln.Vectorizer()\n",
    "    vocab = v.makeVocab(corpus)\n",
    "    X = v.wordVectorizer(sentences,vocab,SEQUENCE_LEN)\n",
    "    y = v.wordVectorizer(next_words,vocab,1)\n",
    "    \n",
    "    return X,y\n",
    "    \n",
    "def produceTexto(numPalabras):\n",
    "    \n",
    "    model = load_model(\"ruta de un model guardado\")\n",
    "    X, _ = getX_y()\n",
    "    seed_text = np.reshape(X[5000],(1,-1))\n",
    "    \n",
    "    print(\"\\n Texto Semilla:\")\n",
    "\n",
    "    print(\" \".join([keylist[i] for i in seed_text[0]]))\n",
    "\n",
    "    texto_output = []\n",
    "\n",
    "    for i in range(numPalabras):\n",
    "\n",
    "    yhat = model.predict_classes(seed_text, verbose=0)\n",
    "    seed_text = np.append(seed_text,yhat[0])\n",
    "    seed_text = pad_sequences([seed_text], maxlen=SEQUENCE_LEN, truncating='pre')\n",
    "    texto_output.append(yhat[0])\n",
    "\n",
    "    print(\"\\n Texto Generado:\")\n",
    "    print(\" \".join([keylist[i] for i in texto_output]))\n",
    "    \n",
    "    "
   ]
  },
  {
   "cell_type": "code",
   "execution_count": null,
   "metadata": {
    "collapsed": true
   },
   "outputs": [],
   "source": [
    "X,y = getX_y()\n",
    "model = Sequential()\n",
    "model.add(Embedding(len(vocab), 50, input_length=SEQUENCE_LEN))\n",
    "model.add(LSTM(100, return_sequences=True))\n",
    "model.add(LSTM(100))\n",
    "model.add(Dense(100, activation='relu'))\n",
    "model.add(Dense(len(vocab), activation='softmax'))\n",
    "print(model.summary())\n",
    "Model.compile(loss='sparse_categorical_crossentropy', optimizer='adam', metrics=['accuracy'])\n",
    "model.fit(X, y, batch_size=BATCH_SIZE, epochs=1)\n",
    "model.save('model3.h5')"
   ]
  }
 ],
 "metadata": {
  "kernelspec": {
   "display_name": "Python 3",
   "language": "python",
   "name": "python3"
  },
  "language_info": {
   "codemirror_mode": {
    "name": "ipython",
    "version": 3
   },
   "file_extension": ".py",
   "mimetype": "text/x-python",
   "name": "python",
   "nbconvert_exporter": "python",
   "pygments_lexer": "ipython3",
   "version": "3.6.0"
  }
 },
 "nbformat": 4,
 "nbformat_minor": 2
}
